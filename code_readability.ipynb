{
 "cells": [
  {
   "cell_type": "code",
   "execution_count": null,
   "metadata": {},
   "outputs": [],
   "source": [
    "import urllib\n",
    "import json\n",
    "\n",
    "# https://affiliate.itunes.apple.com/resources/documentation/itunes-store-web-service-search-api/\n",
    "url = \"https://itunes.apple.com/search?\"\n",
    "\n",
    "query = input(\"What artist or song do you want to search for ? >> \")\n",
    "query = urllib.parse.urlencode( {'term' : query } )\n",
    "\n",
    "response = urllib.request.urlopen(url + query ).read()\n",
    "data = json.loads( response )\n",
    "print(\"No of results:\", data['resultCount'])\n",
    "\n",
    "results = data['results']\n",
    "\n",
    "for result in results:\n",
    "    artist = result['artistName']\n",
    "    track = result['trackName']\n",
    "    print( artist, \":\", track )\n"
   ]
  }
 ],
 "metadata": {
  "kernelspec": {
   "display_name": "Python 3",
   "language": "python",
   "name": "python3"
  },
  "language_info": {
   "codemirror_mode": {
    "name": "ipython",
    "version": 3
   },
   "file_extension": ".py",
   "mimetype": "text/x-python",
   "name": "python",
   "nbconvert_exporter": "python",
   "pygments_lexer": "ipython3",
   "version": "3.6.3"
  }
 },
 "nbformat": 4,
 "nbformat_minor": 2
}
