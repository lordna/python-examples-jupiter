{
 "cells": [
  {
   "cell_type": "code",
   "execution_count": null,
   "metadata": {},
   "outputs": [],
   "source": [
    "def remove_smallest(numbers):\n",
    "    # write your code here\n",
    "    print(numbers)\n",
    "    if len(numbers) == 0:\n",
    "        return numbers\n",
    "    min_value = min(numbers)\n",
    "    print(min_value)\n",
    "    min_index = numbers.index(min_value)\n",
    "    print(min_index)\n",
    "    result = numbers[:min_index] + numbers[min_index+1:]\n",
    "    print(\"res:\",result)\n",
    "    return result\n",
    "\n",
    "remove_smallest([1,2,3,4,5])\n",
    "remove_smallest([222,2,3,4,5])\n",
    "remove_smallest([13213,1,1,2,3,4,5])\n",
    "remove_smallest([13213,2,3,4,5,1])\n",
    "remove_smallest([])\n"
   ]
  }
 ],
 "metadata": {
  "kernelspec": {
   "display_name": "Python 3",
   "language": "python",
   "name": "python3"
  },
  "language_info": {
   "codemirror_mode": {
    "name": "ipython",
    "version": 3
   },
   "file_extension": ".py",
   "mimetype": "text/x-python",
   "name": "python",
   "nbconvert_exporter": "python",
   "pygments_lexer": "ipython3",
   "version": "3.6.3"
  }
 },
 "nbformat": 4,
 "nbformat_minor": 2
}
